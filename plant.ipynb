{
 "cells": [
  {
   "cell_type": "markdown",
   "metadata": {},
   "source": [
    "# Introduction"
   ]
  },
  {
   "cell_type": "markdown",
   "metadata": {},
   "source": [
    "This is a Jupyter notebook. It allows us to run code (in this case Python) alongside text. You can run code cell by selecting the cell and then clicking the run button or holding `Shift+Enter`. Output from the cell will be displayed below it.\n",
    "\n",
    "The cell below imports external Python code for use here (specifically a package `trimesh` for loading and displaying 3D meshes in the notebook and some utilities for viewing file contents)."
   ]
  },
  {
   "cell_type": "code",
   "execution_count": null,
   "metadata": {},
   "outputs": [],
   "source": [
    "import trimesh\n",
    "from utils import *"
   ]
  },
  {
   "cell_type": "markdown",
   "metadata": {},
   "source": [
    "The cell below uses the `trimesh` package to load an example 3D mesh (plants-2) that will be used in today's exercises. After running this cell, a display of the 3D mesh should appear that you can rotate by clicking and dragging (note that you have to click a second time to stop manipulating the mesh)."
   ]
  },
  {
   "cell_type": "code",
   "execution_count": null,
   "metadata": {},
   "outputs": [],
   "source": [
    "fname = 'meshes/plants-2.obj'\n",
    "mesh = trimesh.load_mesh(fname)\n",
    "mesh.show()"
   ]
  },
  {
   "cell_type": "markdown",
   "metadata": {},
   "source": [
    "# Toy Plant Model"
   ]
  },
  {
   "cell_type": "markdown",
   "metadata": {},
   "source": [
    "For the exercises today, we will be using a toy functional-structural plant model that makes the above plant mesh grow over time.\n",
    "\n",
    "In the first version of this model, plant_v0.py (shown below), the growth is very simple and scales directly with time."
   ]
  },
  {
   "cell_type": "code",
   "execution_count": null,
   "metadata": {},
   "outputs": [],
   "source": [
    "from models import plant_v0\n",
    "print_python_source(plant_v0.run)"
   ]
  },
  {
   "cell_type": "markdown",
   "metadata": {},
   "source": [
    "The cell below runs this model directly (it is written in Python) and displays the resulting mesh at the end of the run."
   ]
  },
  {
   "cell_type": "code",
   "execution_count": null,
   "metadata": {},
   "outputs": [],
   "source": [
    "mesh = plant_v0.run(mesh, 0, 28, 1)\n",
    "mesh.show()"
   ]
  },
  {
   "cell_type": "markdown",
   "metadata": {},
   "source": [
    "However, we can also run the model using `yggdrasil` if we have a yaml configuration file for it. The cell below displays the configuration file for this model."
   ]
  },
  {
   "cell_type": "code",
   "execution_count": null,
   "metadata": {},
   "outputs": [],
   "source": [
    "print_yaml('yamls/plant_v0.yml')"
   ]
  },
  {
   "cell_type": "markdown",
   "metadata": {},
   "source": [
    "The following code allows yggdrasil to run the model using the Python API. This is usually done via the `yggrun` command line utility (e.g. `yggrun yamls/plant_v0.yml`). Because this method of running the model requires loading the `yggdrasil` library, it takes a bit longer to run, but would not be significantly larger for a model with a more realistic (and computationally intensive) calculation."
   ]
  },
  {
   "cell_type": "code",
   "execution_count": null,
   "metadata": {},
   "outputs": [],
   "source": [
    "from yggdrasil.runner import run\n",
    "run('yamls/plant_v0.yml')"
   ]
  },
  {
   "cell_type": "markdown",
   "metadata": {},
   "source": [
    "But now we want to add information about processes at other scales to our plant model..."
   ]
  },
  {
   "cell_type": "markdown",
   "metadata": {},
   "source": [
    "# Call to Light Model"
   ]
  },
  {
   "cell_type": "code",
   "execution_count": null,
   "metadata": {},
   "outputs": [],
   "source": [
    "from models import light\n",
    "print_python_source(light.light)"
   ]
  },
  {
   "cell_type": "code",
   "execution_count": null,
   "metadata": {},
   "outputs": [],
   "source": [
    "print_yaml('yamls/light.yml')"
   ]
  },
  {
   "cell_type": "code",
   "execution_count": null,
   "metadata": {},
   "outputs": [],
   "source": [
    "from models import plant_v1\n",
    "print_python_source(plant_v1.run)"
   ]
  },
  {
   "cell_type": "code",
   "execution_count": null,
   "metadata": {},
   "outputs": [],
   "source": [
    "print_yaml('yamls/plant_v1.yml')"
   ]
  },
  {
   "cell_type": "code",
   "execution_count": null,
   "metadata": {},
   "outputs": [],
   "source": [
    "run(['yamls/plant_v1.yml', 'yamls/light.yml'], production_run=True)"
   ]
  },
  {
   "cell_type": "code",
   "execution_count": null,
   "metadata": {},
   "outputs": [],
   "source": [
    "display_last_timestep(with_light=True)"
   ]
  },
  {
   "cell_type": "markdown",
   "metadata": {},
   "source": [
    "## The light model is easily replaced with other models\n",
    "### C++ Model"
   ]
  },
  {
   "cell_type": "code",
   "execution_count": null,
   "metadata": {},
   "outputs": [],
   "source": [
    "print_yaml('yamls/light_cpp.yml')\n",
    "print_source('models/light.cpp')\n",
    "run(['yamls/plant_v1.yml', 'yamls/light_cpp.yml'], production_run=True)\n",
    "display_last_timestep(with_light=True)"
   ]
  },
  {
   "cell_type": "markdown",
   "metadata": {},
   "source": [
    "### R Model"
   ]
  },
  {
   "cell_type": "code",
   "execution_count": null,
   "metadata": {},
   "outputs": [],
   "source": [
    "print_yaml('yamls/light_R.yml')\n",
    "print_source('models/light.R')\n",
    "run(['yamls/plant_v1.yml', 'yamls/light_R.yml'], production_run=True)\n",
    "display_last_timestep(with_light=True)"
   ]
  },
  {
   "cell_type": "code",
   "execution_count": null,
   "metadata": {},
   "outputs": [],
   "source": []
  }
 ],
 "metadata": {
  "kernelspec": {
   "display_name": "Python 3",
   "language": "python",
   "name": "python3"
  },
  "language_info": {
   "codemirror_mode": {
    "name": "ipython",
    "version": 3
   },
   "file_extension": ".py",
   "mimetype": "text/x-python",
   "name": "python",
   "nbconvert_exporter": "python",
   "pygments_lexer": "ipython3",
   "version": "3.6.10"
  }
 },
 "nbformat": 4,
 "nbformat_minor": 4
}
